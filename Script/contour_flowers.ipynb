{
  "nbformat": 4,
  "nbformat_minor": 0,
  "metadata": {
    "colab": {
      "name": "E03_immagini.ipynb",
      "provenance": [],
      "collapsed_sections": [],
      "toc_visible": true
    },
    "kernelspec": {
      "name": "python3",
      "display_name": "Python 3",
      "language": "python"
    }
  },
  "cells": [
    {
      "cell_type": "code",
      "metadata": {
        "id": "o_WQFJZEiYzW"
      },
      "source": [
        "import numpy as np\n",
        "from skimage import io\n",
        "from matplotlib import pyplot as plt"
      ],
      "execution_count": 1,
      "outputs": []
    },
    {
      "cell_type": "code",
      "metadata": {
        "id": "1l4zMbLS5V_2"
      },
      "source": [
        "from sklearn.cluster import KMeans\n",
        "import matplotlib.pyplot as plt\n",
        "import numpy as np\n",
        "import cv2\n",
        "from collections import Counter\n",
        "from skimage.color import rgb2lab, deltaE_cie76\n",
        "import os\n",
        "from PIL import Image\n",
        "import os\n",
        "from skimage import filters\n",
        "\n",
        "%matplotlib inline"
      ],
      "execution_count": 29,
      "outputs": []
    },
    {
      "cell_type": "code",
      "execution_count": 7,
      "metadata": {},
      "outputs": [],
      "source": [
        "def get_image(image_path):\n",
        "    img = cv2.imread(image_path)\n",
        "    img = cv2.cvtColor(img, cv2.COLOR_BGR2RGB)\n",
        "    return img"
      ]
    },
    {
      "cell_type": "code",
      "metadata": {
        "id": "IB8HtuJrN7CE"
      },
      "source": [
        "def remove_green (image_path):\n",
        "  img = get_image(image_path)\n",
        "  _, threshold = cv2.threshold(img, 150, 255, cv2.THRESH_BINARY)\n",
        "  \n",
        "  for row in range(len(threshold)):\n",
        "    for col in range(len(threshold[row])):\n",
        "      if (list(threshold[row][col]) == [0,255,0] ): #or list(threshold[row][col]) == [255,255,0]\n",
        "        threshold[row][col] = [0,0,0]\n",
        "\n",
        "  plt.subplot(1,2,1),plt.imshow(img)\n",
        "  plt.subplot(1,2,2),plt.imshow(threshold)\n",
        "\n",
        "  return threshold"
      ],
      "execution_count": 8,
      "outputs": []
    },
    {
      "cell_type": "code",
      "execution_count": 52,
      "metadata": {},
      "outputs": [],
      "source": [
        "def binary_mask_image(image_path):\n",
        "\n",
        "    path = '102flowers/'+image_path\n",
        "    image_no_green = Image.fromarray((remove_green(path)))\n",
        "    image_no_green.save('new_images/{}'.format(image_path))\n",
        "    image = cv2.imread('new_images/{}'.format(image_path),0)\n",
        "    os.remove('new_images/{}'.format(image_path))\n",
        "\n",
        "    _,threshold_image = cv2.threshold(image,0,255,cv2.THRESH_BINARY)\n",
        "    im_smooth = filters.rank.percentile(threshold_image, np.ones((21,21)), p0=0.5)\n",
        "\n",
        "    original = get_image(path)\n",
        "    mask = im_smooth / 255\n",
        "    mask = mask.reshape(*mask.shape, 1)\n",
        "    masked_image = original * mask\n",
        "\n",
        "    image_mask = Image.fromarray(masked_image.astype(np.uint8))\n",
        "    print(\"i'm saving masked image...\")\n",
        "    image_mask.save(\"mask/{}\".format(image_path))\n",
        "    \n",
        "    plt.imshow(image_mask, cmap = 'gray')"
      ]
    },
    {
      "cell_type": "code",
      "execution_count": 2,
      "metadata": {},
      "outputs": [],
      "source": [
        "list_files = os.listdir('D:/UNIVERSITA_2/Magistrale/AdvancedML/PROGETTO/102flowers')"
      ]
    },
    {
      "cell_type": "code",
      "execution_count": null,
      "metadata": {},
      "outputs": [],
      "source": [
        "for image in list_files:\n",
        "    binary_mask_image(image)"
      ]
    }
  ]
}