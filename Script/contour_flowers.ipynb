{
  "nbformat": 4,
  "nbformat_minor": 0,
  "metadata": {
    "colab": {
      "name": "E03_immagini.ipynb",
      "provenance": [],
      "collapsed_sections": [],
      "toc_visible": true
    },
    "kernelspec": {
      "name": "python3",
      "display_name": "Python 3",
      "language": "python"
    }
  },
  "cells": [
    {
      "cell_type": "code",
      "metadata": {
        "id": "o_WQFJZEiYzW"
      },
      "source": [
        "import numpy as np\n",
        "from skimage import io\n",
        "from matplotlib import pyplot as plt"
      ],
      "execution_count": 1,
      "outputs": []
    },
    {
      "cell_type": "code",
      "metadata": {
        "id": "1l4zMbLS5V_2"
      },
      "source": [
        "from sklearn.cluster import KMeans\n",
        "import matplotlib.pyplot as plt\n",
        "import numpy as np\n",
        "import cv2\n",
        "from collections import Counter\n",
        "from skimage.color import rgb2lab, deltaE_cie76\n",
        "import os\n",
        "from PIL import Image\n",
        "import os\n",
        "from skimage import filters\n",
        "import shutil\n",
        "\n",
        "\n",
        "%matplotlib inline"
      ],
      "execution_count": 29,
      "outputs": []
    },
    {
      "cell_type": "code",
      "execution_count": 7,
      "metadata": {},
      "outputs": [],
      "source": [
        "def get_image(image_path):\n",
        "    img = cv2.imread(image_path)\n",
        "    img = cv2.cvtColor(img, cv2.COLOR_BGR2RGB)\n",
        "    return img"
      ]
    },
    {
      "cell_type": "code",
      "metadata": {
        "id": "IB8HtuJrN7CE"
      },
      "source": [
        "def remove_green (image_path):\n",
        "  img = get_image(image_path)\n",
        "  _, threshold = cv2.threshold(img, 150, 255, cv2.THRESH_BINARY)\n",
        "  \n",
        "  for row in range(len(threshold)):\n",
        "    for col in range(len(threshold[row])):\n",
        "      if (list(threshold[row][col]) == [0,255,0] ): #or list(threshold[row][col]) == [255,255,0]\n",
        "        threshold[row][col] = [0,0,0]\n",
        "\n",
        "  plt.subplot(1,2,1),plt.imshow(img)\n",
        "  plt.subplot(1,2,2),plt.imshow(threshold)\n",
        "\n",
        "  return threshold"
      ],
      "execution_count": 8,
      "outputs": []
    },
    {
      "cell_type": "code",
      "execution_count": 52,
      "metadata": {},
      "outputs": [],
      "source": [
        "def binary_mask_image(image_path):\n",
        "\n",
        "    path = '102flowers/'+image_path\n",
        "    image_no_green = Image.fromarray((remove_green(path)))\n",
        "    image_no_green.save('new_images/{}'.format(image_path))\n",
        "    image = cv2.imread('new_images/{}'.format(image_path),0)\n",
        "    os.remove('new_images/{}'.format(image_path))\n",
        "\n",
        "    _,threshold_image = cv2.threshold(image,0,255,cv2.THRESH_BINARY)\n",
        "    im_smooth = filters.rank.percentile(threshold_image, np.ones((21,21)), p0=0.5)\n",
        "\n",
        "    original = get_image(path)\n",
        "    mask = im_smooth / 255\n",
        "    mask = mask.reshape(*mask.shape, 1)\n",
        "    masked_image = original * mask\n",
        "\n",
        "    image_mask = Image.fromarray(masked_image.astype(np.uint8))\n",
        "    print(\"i'm saving masked image...\")\n",
        "    image_mask.save(\"mask/{}\".format(image_path))\n",
        "    \n",
        "    plt.imshow(image_mask, cmap = 'gray')"
      ]
    },
    {
      "cell_type": "code",
      "execution_count": 2,
      "metadata": {},
      "outputs": [],
      "source": [
        "list_files = os.listdir('D:/UNIVERSITA_2/Magistrale/AdvancedML/PROGETTO/102flowers')"
      ]
    },
    {
      "cell_type": "code",
      "execution_count": null,
      "metadata": {},
      "outputs": [],
      "source": [
        "for image in list_files:\n",
        "    binary_mask_image(image)"
      ]
    },
    {
      "source": [],
      "cell_type": "markdown",
      "metadata": {}
    },
    {
      "cell_type": "code",
      "execution_count": null,
      "metadata": {},
      "outputs": [],
      "source": [
        "def rotate_image (image_path):\n",
        "  path = '102flowers/'+image_path\n",
        "  img = cv2.imread(path)\n",
        "  img = cv2.cvtColor(img, cv2.COLOR_BGR2RGB)\n",
        "  img = Image.fromarray(img)\n",
        "  img_180 = img.rotate(180)\n",
        "  img_180.save('rotated/{}'.format(image_path))\n",
        "\n",
        "list_files = os.listdir('102flowers/')\n",
        "for image in list_files:\n",
        "    print (image)\n",
        "    rotate_image(image)"
      ]
    },
    {
      "cell_type": "code",
      "execution_count": null,
      "metadata": {},
      "outputs": [],
      "source": [
        "def mask_grabcut (image_path):\n",
        "    img = cv2.imread(image_path)\n",
        "    img = cv2.resize(img, (224,224))\n",
        "    img = cv2.cvtColor(img, cv2.COLOR_BGR2RGB)\n",
        "    mask = np.zeros(img.shape[:2],np.uint8)\n",
        "\n",
        "    bgdModel = np.zeros((1,65),np.float64)\n",
        "    fgdModel = np.zeros((1,65),np.float64)\n",
        "    rect = (5,5,224,224)\n",
        "    cv2.grabCut(img,mask,rect,bgdModel,fgdModel,3,cv2.GC_INIT_WITH_RECT)\n",
        "    mask2 = np.where((mask==2)|(mask==0),0,1).astype('uint8')\n",
        "    img = img*mask2[:,:,np.newaxis]\n",
        "\n",
        "    return img"
      ]
    },
    {
      "cell_type": "code",
      "execution_count": null,
      "metadata": {},
      "outputs": [],
      "source": [
        "def mask_image(image_path):\n",
        "    img1 = mask_grabcut('102flowers/{}'.format(image_path))\n",
        "    img_180 = mask_grabcut('rotated/{}'.format(image_path))\n",
        "    img_180= Image.fromarray(img_180)\n",
        "    img_180 = img_180.rotate(180)\n",
        "\n",
        "    overlap  = img1*img_180\n",
        "    overlap = cv2.cvtColor(overlap, cv2.COLOR_RGB2GRAY)\n",
        "    im_smooth = filters.rank.percentile(overlap, np.ones((2,2)), p0=0.5)\n",
        "\n",
        "    _,threshold_image = cv2.threshold(overlap,0,255,cv2.THRESH_BINARY)\n",
        "\n",
        "    mask = threshold_image / 255\n",
        "    mask = mask.reshape(*mask.shape,1)\n",
        "    masked_image = img1 * mask\n",
        "\n",
        "    image_mask = Image.fromarray(masked_image.astype(np.uint8))\n",
        "    print(\"i'm saving masked image...\")\n",
        "    image_mask.save(\"mask_NEW/{}\".format(image_path))"
      ]
    },
    {
      "cell_type": "code",
      "execution_count": null,
      "metadata": {},
      "outputs": [],
      "source": [
        "list_files = os.listdir('102flowers/')\n",
        "for image in list_files:\n",
        "    print (image)\n",
        "    mask_image(image)"
      ]
    },
    {
      "source": [],
      "cell_type": "markdown",
      "metadata": {}
    },
    {
      "source": [
        "list_files_tot = os.listdir('D:/UNIVERSITA_2/Magistrale/AdvancedML/PROGETTO/102flowers')\n",
        "list_files_mask = os.listdir('D:/UNIVERSITA_2/Magistrale/AdvancedML/PROGETTO/mask_NEW')\n",
        "list_remove = ['image_00503.jpg','image_02602.jpg','image_03180.jpg','image_03917.jpg','image_04814.jpg','image_05841.jpg','image_5844.jpg','image_06975.jpg','image_06976.jpg','image_06999.jpg']"
      ],
      "cell_type": "code",
      "metadata": {},
      "execution_count": null,
      "outputs": []
    },
    {
      "cell_type": "code",
      "execution_count": null,
      "metadata": {},
      "outputs": [],
      "source": [
        "import shutil\n",
        "import cv2\n",
        "from PIL import Image"
      ]
    },
    {
      "source": [
        "source = 'mask_tot/'\n",
        "dest = 'mask_NEW/'\n",
        "for image in sorted(list_files_tot):\n",
        "    if image not in list_files_mask:\n",
        "        #if image not in list_remove:\n",
        "        shutil.copyfile(source+image, dest+image)"
      ],
      "cell_type": "code",
      "metadata": {},
      "execution_count": null,
      "outputs": []
    },
    {
      "cell_type": "code",
      "execution_count": null,
      "metadata": {},
      "outputs": [],
      "source": [
        "source = 'mask_NEW/'\n",
        "list_files_tot = os.listdir('D:/UNIVERSITA_2/Magistrale/AdvancedML/PROGETTO/mask_NEW')\n",
        "\n",
        "for i in range(len(list_files_tot)):\n",
        "    if list_files_tot[i] in list_remove:\n",
        "        path_curr = source + list_files_tot[i]\n",
        "        path_prec = source + list_files_tot[i-1]\n",
        "        \n",
        "        img = cv2.imread(path_prec)\n",
        "        img = cv2.cvtColor(img, cv2.COLOR_BGR2RGB)\n",
        "        img = Image.fromarray(img)\n",
        "        img_90 = img.rotate(90)\n",
        "        img_90.save(path_curr)"
      ]
    }
  ]
}