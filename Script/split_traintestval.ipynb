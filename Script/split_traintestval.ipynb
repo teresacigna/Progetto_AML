{
 "metadata": {
  "language_info": {
   "codemirror_mode": {
    "name": "ipython",
    "version": 3
   },
   "file_extension": ".py",
   "mimetype": "text/x-python",
   "name": "python",
   "nbconvert_exporter": "python",
   "pygments_lexer": "ipython3",
   "version": "3.8.3-final"
  },
  "orig_nbformat": 2,
  "kernelspec": {
   "name": "python3",
   "display_name": "Python 3",
   "language": "python"
  }
 },
 "nbformat": 4,
 "nbformat_minor": 2,
 "cells": [
  {
   "cell_type": "code",
   "execution_count": 1,
   "metadata": {},
   "outputs": [],
   "source": [
    "import numpy as np\n",
    "\n",
    "import tensorflow as tf\n",
    "from tensorflow.keras.applications import vgg16\n",
    "from tensorflow.keras.applications.vgg16 import VGG16\n",
    "\n",
    "from sklearn.neighbors import KNeighborsClassifier\n",
    "from sklearn.metrics import classification_report, confusion_matrix\n",
    "\n",
    "import keras\n",
    "from shutil import copyfile\n",
    "from zipfile import ZipFile\n",
    "\n",
    "import matplotlib.pyplot as plt\n",
    "import scipy.io\n",
    "from keras.preprocessing import image as kimage"
   ]
  },
  {
   "source": [
    "NAMES = [\n",
    "    \"pink primrose\", \"hard-leaved pocket orchid\", \"canterbury bells\",\n",
    "    \"sweet pea\", \"english marigold\", \"tiger lily\", \"moon orchid\",\n",
    "    \"bird of paradise\", \"monkshood\", \"globe thistle\", \"snapdragon\",\n",
    "    \"colt's foot\", \"king protea\", \"spear thistle\", \"yellow iris\",\n",
    "    \"globe-flower\", \"purple coneflower\", \"peruvian lily\", \"balloon flower\",\n",
    "    \"giant white arum lily\", \"fire lily\", \"pincushion flower\", \"fritillary\",\n",
    "    \"red ginger\", \"grape hyacinth\", \"corn poppy\", \"prince of wales feathers\",\n",
    "    \"stemless gentian\", \"artichoke\", \"sweet william\", \"carnation\",\n",
    "    \"garden phlox\", \"love in the mist\", \"mexican aster\", \"alpine sea holly\",\n",
    "    \"ruby-lipped cattleya\", \"cape flower\", \"great masterwort\", \"siam tulip\",\n",
    "    \"lenten rose\", \"barbeton daisy\", \"daffodil\", \"sword lily\", \"poinsettia\",\n",
    "    \"bolero deep blue\", \"wallflower\", \"marigold\", \"buttercup\", \"oxeye daisy\",\n",
    "    \"common dandelion\", \"petunia\", \"wild pansy\", \"primula\", \"sunflower\",\n",
    "    \"pelargonium\", \"bishop of llandaff\", \"gaura\", \"geranium\", \"orange dahlia\",\n",
    "    \"pink-yellow dahlia?\", \"cautleya spicata\", \"japanese anemone\",\n",
    "    \"black-eyed susan\", \"silverbush\", \"californian poppy\", \"osteospermum\",\n",
    "    \"spring crocus\", \"bearded iris\", \"windflower\", \"tree poppy\", \"gazania\",\n",
    "    \"azalea\", \"water lily\", \"rose\", \"thorn apple\", \"morning glory\",\n",
    "    \"passion flower\", \"lotus\", \"toad lily\", \"anthurium\", \"frangipani\",\n",
    "    \"clematis\", \"hibiscus\", \"columbine\", \"desert-rose\", \"tree mallow\",\n",
    "    \"magnolia\", \"cyclamen\", \"watercress\", \"canna lily\", \"hippeastrum\",\n",
    "    \"bee balm\", \"ball moss\", \"foxglove\", \"bougainvillea\", \"camellia\", \"mallow\",\n",
    "    \"mexican petunia\", \"bromelia\", \"blanket flower\", \"trumpet creeper\",\n",
    "    \"blackberry lily\"\n",
    "]"
   ],
   "cell_type": "code",
   "metadata": {},
   "execution_count": 2,
   "outputs": []
  },
  {
   "source": [
    "labels = scipy.io.loadmat('imagelabels.mat')\n",
    "labels = labels['labels'][0]\n",
    "\n",
    "split_index = scipy.io.loadmat('setid.mat')\n",
    "train_id = split_index['trnid'][0]\n",
    "val_id = split_index['valid'][0]\n",
    "test_id = split_index['tstid'][0]"
   ],
   "cell_type": "code",
   "metadata": {},
   "execution_count": null,
   "outputs": []
  },
  {
   "cell_type": "code",
   "execution_count": null,
   "metadata": {},
   "outputs": [],
   "source": [
    "source = \"102flowers_train\"\n",
    "dest1 = \"102flowers_test\"\n",
    "dest2 = \"102flowers_val\"\n",
    "\n",
    "list_files = os.listdir(source)\n",
    "for i in range(len(list_files)):\n",
    "    print ('image', i)\n",
    "    if i not in (train_id-1):\n",
    "        if i in (test_id-1):\n",
    "            if not os.path.exists(dest1):\n",
    "                os.makedirs(dest1)\n",
    "            shutil.move(source+ '/'+ list_files[i], dest1 + '/' + list_files[i])\n",
    "        else:\n",
    "            if not os.path.exists(dest2):\n",
    "                os.makedirs(dest2)\n",
    "            shutil.move(source+ '/'+ list_files[i], dest2 + '/' + list_files[i])"
   ]
  },
  {
   "cell_type": "code",
   "execution_count": 170,
   "metadata": {},
   "outputs": [],
   "source": [
    "def from_image_to_array (source):\n",
    "    list_image = []\n",
    "    for file_image in os.listdir(source):\n",
    "        path_image = source + '/' + file_image\n",
    "        img = kimage.load_img(path_image, target_size = (224,224))\n",
    "        image_array = kimage.img_to_array(img)\n",
    "        list_image.append(image_array)\n",
    "    data = np.array(list_image)\n",
    "    return data"
   ]
  },
  {
   "cell_type": "code",
   "execution_count": 171,
   "metadata": {},
   "outputs": [],
   "source": [
    "X_train = from_image_to_array('102flowers_train')\n",
    "X_train.shape"
   ]
  },
  {
   "cell_type": "code",
   "execution_count": 173,
   "metadata": {},
   "outputs": [
    {
     "output_type": "execute_result",
     "data": {
      "text/plain": [
       "(6149, 224, 224, 3)"
      ]
     },
     "metadata": {},
     "execution_count": 173
    }
   ],
   "source": [
    "X_test= from_image_to_array('102flowers_test')\n",
    "X_test.shape"
   ]
  },
  {
   "cell_type": "code",
   "execution_count": 174,
   "metadata": {},
   "outputs": [
    {
     "output_type": "execute_result",
     "data": {
      "text/plain": [
       "(1020, 224, 224, 3)"
      ]
     },
     "metadata": {},
     "execution_count": 174
    }
   ],
   "source": [
    "X_val = from_image_to_array('102flowers_val')\n",
    "X_val.shape"
   ]
  },
  {
   "cell_type": "code",
   "execution_count": 11,
   "metadata": {},
   "outputs": [],
   "source": [
    "y_train = labels[sorted(train_id-1)] # -1 perchè gli indici partono da 1 e non da 0\n",
    "y_val = labels[sorted(val_id-1)]\n",
    "y_test = labels[sorted(test_id-1)]"
   ]
  },
  {
   "cell_type": "code",
   "execution_count": 14,
   "metadata": {},
   "outputs": [
    {
     "output_type": "execute_result",
     "data": {
      "text/plain": [
       "array([77, 77, 77, ..., 62, 62, 62], dtype=uint8)"
      ]
     },
     "metadata": {},
     "execution_count": 14
    }
   ],
   "source": [
    "y_val"
   ]
  },
  {
   "cell_type": "code",
   "execution_count": 12,
   "metadata": {},
   "outputs": [
    {
     "output_type": "execute_result",
     "data": {
      "text/plain": [
       "array([77, 77, 77, ..., 62, 62, 62], dtype=uint8)"
      ]
     },
     "metadata": {},
     "execution_count": 12
    }
   ],
   "source": [
    "labels"
   ]
  },
  {
   "source": [
    "import pickle\n",
    "with open('102flowers_X_val.pickle', 'wb') as handle:\n",
    "    pickle.dump(X_val, handle)\n",
    "with open('102flowers_X_train.pickle', 'wb') as handle:\n",
    "    pickle.dump(X_train, handle)\n",
    "with open('102flowers_X_test.pickle', 'wb') as handle:\n",
    "    pickle.dump(X_test, handle)"
   ],
   "cell_type": "code",
   "metadata": {},
   "execution_count": null,
   "outputs": []
  },
  {
   "cell_type": "code",
   "execution_count": 16,
   "metadata": {},
   "outputs": [],
   "source": [
    "with open('102flowers_y_train.pickle', 'wb') as handle:\n",
    "    pickle.dump(y_train, handle)\n",
    "with open('102flowers_y_test.pickle', 'wb') as handle:\n",
    "    pickle.dump(y_test, handle)\n",
    "with open('102flowers_y_val.pickle', 'wb') as handle:\n",
    "    pickle.dump(y_val, handle)"
   ]
  },
  {
   "source": [],
   "cell_type": "markdown",
   "metadata": {}
  },
  {
   "source": [],
   "cell_type": "markdown",
   "metadata": {}
  },
  {
   "cell_type": "code",
   "execution_count": 184,
   "metadata": {},
   "outputs": [],
   "source": [
    "y_train = labels[np.sort(train_id)-1] # -1 perchè gli indici partono da 1 e non da 0\n",
    "y_val = labels[np.sort(val_id)-1]\n",
    "y_test = labels[np.sort(test_id)-1]\n"
   ]
  },
  {
   "cell_type": "code",
   "execution_count": 186,
   "metadata": {},
   "outputs": [],
   "source": [
    "with open('102flowers_y_train.pickle', 'wb') as handle:\n",
    "    pickle.dump(y_train, handle)\n",
    "with open('102flowers_y_test.pickle', 'wb') as handle:\n",
    "    pickle.dump(y_test, handle)\n",
    "with open('102flowers_y_val.pickle', 'wb') as handle:\n",
    "    pickle.dump(y_val, handle)"
   ]
  },
  {
   "source": [
    "source = 'mask_NEW_folders/'\n",
    "\n",
    "list_files = os.listdir(source)\n",
    "for i in range(len(list_files)):\n",
    "    print(i)\n",
    "    label = labels[i]\n",
    "    label_name = NAMES[label-1]\n",
    "    print(label_name)\n",
    "    if not os.path.exists(source + label_name):\n",
    "        print('sto creando la cartella', source + label_name)\n",
    "        os.makedirs(source + label_name)\n",
    "    shutil.move(source+ list_files[i], source + label_name + '/' + list_files[i])\n",
    "    print('sto muovendo il file',list_files[i], 'dalla cartella', source, 'alla cartella', source + label_name)\n"
   ],
   "cell_type": "code",
   "metadata": {},
   "execution_count": null,
   "outputs": []
  },
  {
   "cell_type": "code",
   "execution_count": null,
   "metadata": {},
   "outputs": [],
   "source": [
    "listdir = os.listdir('mask_NEW_folders')\n",
    "for directory in listdir:\n",
    "    listfiles = os.listdir('mask_NEW_folders/'+directory)\n",
    "    for image in listfiles:\n",
    "        image_path = 'mask_NEW_folders/'+directory+'/'+image\n",
    "        img = kimage.load_img(image_path, target_size = (224,224))\n",
    "        img.save ('mask_NEW_folders/'+directory+'/'+image)"
   ]
  },
  {
   "cell_type": "code",
   "execution_count": null,
   "metadata": {},
   "outputs": [],
   "source": [
    "listfiles = os.listdir('mask_NEW')\n",
    "\n",
    "for image in listfiles:\n",
    "    image_path = 'mask_NEW/'+image\n",
    "    img = kimage.load_img(image_path, target_size = (224,224))\n",
    "    img.save ('mask_NEW/'+image)"
   ]
  }
 ]
}