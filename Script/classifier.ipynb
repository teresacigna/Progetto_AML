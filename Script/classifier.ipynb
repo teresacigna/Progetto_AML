{
 "metadata": {
  "language_info": {
   "codemirror_mode": {
    "name": "ipython",
    "version": 3
   },
   "file_extension": ".py",
   "mimetype": "text/x-python",
   "name": "python",
   "nbconvert_exporter": "python",
   "pygments_lexer": "ipython3",
   "version": 3
  },
  "orig_nbformat": 2
 },
 "nbformat": 4,
 "nbformat_minor": 2,
 "cells": [
  {
   "cell_type": "code",
   "execution_count": null,
   "metadata": {},
   "outputs": [],
   "source": [
    "import math\n",
    "from sklearn.neighbors import KNeighborsClassifier\n",
    "import keras\n",
    "from sklearn.metrics import classification_report, confusion_matrix\n",
    "from sklearn.neighbors import KDTree\n",
    "import pickle\n",
    "from sklearn.svm import SVC\n",
    "from sklearn.model_selection import train_test_split, GridSearchCV\n",
    "import cv2\n",
    "import numpy as np\n",
    "from matplotlib import pyplot as plt\n",
    "import operator\n",
    "from keras import *\n",
    "import tensorflow as tf\n",
    "import pandas as pd\n",
    "import numpy as np\n",
    "import sklearn\n",
    "from sklearn.model_selection import train_test_split\n",
    "from sklearn.metrics import mean_squared_error\n",
    "import matplotlib.pyplot as plt\n",
    "from keras.layers import Activation, LeakyReLU\n",
    "from tensorflow.keras.activations import sigmoid\n",
    "from keras.utils.generic_utils import get_custom_objects\n",
    "from keras import backend as K\n",
    "from sklearn.preprocessing import StandardScaler\n",
    "import seaborn as sns\n",
    "from keras.utils import np_utils\n",
    "from keras.models import Sequential\n",
    "from keras.layers.core import Dense, Dropout\n",
    "from keras.optimizers import SGD\n",
    "from sklearn.model_selection import train_test_split\n",
    "from tensorflow.keras import regularizers\n",
    "from keras.backend import abs, sum\n",
    "from keras.preprocessing import image as kimage\n"
   ]
  },
  {
   "cell_type": "code",
   "execution_count": null,
   "metadata": {},
   "outputs": [],
   "source": [
    "train_processing = keras.preprocessing.image.ImageDataGenerator(rotation_range=45, \n",
    "                                                                width_shift_range=0.1, \n",
    "                                                                height_shift_range=0.1, \n",
    "                                                                zoom_range=0.1, \n",
    "                                                                preprocessing_function=mobilenet_v2.preprocess_input)###resnet_v2 mobilenet_v2 vgg16\n",
    "train_generator= train_processing.flow_from_directory( \n",
    "    directory='mask_NEW_test_folders',\n",
    "    target_size=(224,224), #scelta standard\n",
    "    color_mode= 'rgb', #dobbiamo mettere stessi parametri della rete di partenza\n",
    "    class_mode = 'categorical',\n",
    "    batch_size = 16,\n",
    "    shuffle = True,\n",
    "    seed = 1\n",
    ")"
   ]
  },
  {
   "cell_type": "code",
   "execution_count": null,
   "metadata": {},
   "outputs": [],
   "source": [
    "test_processing = keras.preprocessing.image.ImageDataGenerator(preprocessing_function=mobilenet_v2.preprocess_input)###resnet_v2 mobilenet_v2 vgg16\n",
    "test_generator= test_processing.flow_from_directory(\n",
    "    directory='mask_NEW_train_folders',\n",
    "    target_size=(224,224), #scelta standard\n",
    "    color_mode= 'rgb', #dobbiamo mettere stessi parametri della rete di partenza\n",
    "    class_mode = 'categorical',\n",
    "    batch_size = 16,\n",
    "    shuffle = True,\n",
    "    seed = 1\n",
    ")"
   ]
  },
  {
   "cell_type": "code",
   "execution_count": null,
   "metadata": {},
   "outputs": [],
   "source": [
    "base_net = mobilenet_v2.MobileNetV2(input_shape=(224,224,3), weights ='imagenet', include_top=False, pooling='avg')"
   ]
  },
  {
   "cell_type": "code",
   "execution_count": null,
   "metadata": {},
   "outputs": [],
   "source": [
    "base_net = resnet_v2.ResNet101V2(input_shape=(224,224,3), weights ='imagenet', include_top=False, pooling='avg')"
   ]
  },
  {
   "cell_type": "code",
   "execution_count": null,
   "metadata": {},
   "outputs": [],
   "source": [
    "base_net = vgg16.VGG16(input_shape=(224,224,3), weights ='imagenet', include_top=False, pooling='avg')"
   ]
  },
  {
   "cell_type": "code",
   "execution_count": null,
   "metadata": {},
   "outputs": [],
   "source": [
    "base_net.summary()"
   ]
  },
  {
   "cell_type": "code",
   "execution_count": null,
   "metadata": {},
   "outputs": [],
   "source": [
    "for layers in base_net.layers:\n",
    "    layers.trainable = False"
   ]
  },
  {
   "cell_type": "code",
   "execution_count": null,
   "metadata": {},
   "outputs": [],
   "source": [
    "x = base_net.output #base_net.get_layer('fc1').output\n",
    "\n",
    "x = keras.layers.BatchNormalization()(x)\n",
    "x = keras.layers.ReLU()(x)\n",
    "x = keras.layers.BatchNormalization()(x)\n",
    "x = keras.layers.Dense(128, activation = 'relu', kernel_regularizer=regularizers.l2(0.0005))(x)\n",
    "x = keras.layers.BatchNormalization()(x)\n",
    "x = keras.layers.Dropout(0.5)(x)\n",
    "\n",
    "pred = keras.layers.Dense(102, activation='softmax')(x) \n"
   ]
  },
  {
   "cell_type": "code",
   "execution_count": null,
   "metadata": {},
   "outputs": [],
   "source": [
    "x = base_net.output\n",
    "\n",
    "x = keras.layers.BatchNormalization()(x)\n",
    "x = keras.layers.ReLU()(x)\n",
    "x = keras.layers.BatchNormalization()(x)\n",
    "x = keras.layers.Dense(128, activation = 'relu', kernel_regularizer=regularizers.l2(0.0005))(x)\n",
    "x = keras.layers.BatchNormalization()(x)\n",
    "x = keras.layers.Dropout(0.5)(x)\n",
    "\n",
    "pred = keras.layers.Dense(102, activation='softmax')(x) "
   ]
  },
  {
   "cell_type": "code",
   "execution_count": null,
   "metadata": {},
   "outputs": [],
   "source": [
    "net = keras.Model(inputs=base_net.input, outputs=pred)"
   ]
  },
  {
   "cell_type": "code",
   "execution_count": null,
   "metadata": {},
   "outputs": [],
   "source": [
    "net.compile(loss=keras.losses.categorical_crossentropy,\n",
    "            optimizer=keras.optimizers.Adam(), #keras.optimizers.RMSprop() #keras.optimizers.Adam() #sgd\n",
    "            metrics=['accuracy'])"
   ]
  },
  {
   "cell_type": "code",
   "execution_count": null,
   "metadata": {},
   "outputs": [],
   "source": [
    "history = net.fit(train_generator, batch_size=64, epochs=30, verbose=1, validation_data=test_generator) ####30"
   ]
  },
  {
   "cell_type": "code",
   "execution_count": null,
   "metadata": {},
   "outputs": [],
   "source": [
    "net.save('mod3_100epochs_mobilenet.h5')"
   ]
  },
  {
   "source": [
    "# PROVA PERFORMANCE"
   ],
   "cell_type": "markdown",
   "metadata": {}
  },
  {
   "cell_type": "code",
   "execution_count": null,
   "metadata": {},
   "outputs": [],
   "source": [
    "net = None\n",
    "net=keras.models.load_model('mod3_100epochs_mobilenet.h5')"
   ]
  },
  {
   "cell_type": "code",
   "execution_count": null,
   "metadata": {},
   "outputs": [],
   "source": [
    "NAMES = [\n",
    "    \"pink primrose\", \"hard-leaved pocket orchid\", \"canterbury bells\",\n",
    "    \"sweet pea\", \"english marigold\", \"tiger lily\", \"moon orchid\",\n",
    "    \"bird of paradise\", \"monkshood\", \"globe thistle\", \"snapdragon\",\n",
    "    \"colt's foot\", \"king protea\", \"spear thistle\", \"yellow iris\",\n",
    "    \"globe-flower\", \"purple coneflower\", \"peruvian lily\", \"balloon flower\",\n",
    "    \"giant white arum lily\", \"fire lily\", \"pincushion flower\", \"fritillary\",\n",
    "    \"red ginger\", \"grape hyacinth\", \"corn poppy\", \"prince of wales feathers\",\n",
    "    \"stemless gentian\", \"artichoke\", \"sweet william\", \"carnation\",\n",
    "    \"garden phlox\", \"love in the mist\", \"mexican aster\", \"alpine sea holly\",\n",
    "    \"ruby-lipped cattleya\", \"cape flower\", \"great masterwort\", \"siam tulip\",\n",
    "    \"lenten rose\", \"barbeton daisy\", \"daffodil\", \"sword lily\", \"poinsettia\",\n",
    "    \"bolero deep blue\", \"wallflower\", \"marigold\", \"buttercup\", \"oxeye daisy\",\n",
    "    \"common dandelion\", \"petunia\", \"wild pansy\", \"primula\", \"sunflower\",\n",
    "    \"pelargonium\", \"bishop of llandaff\", \"gaura\", \"geranium\", \"orange dahlia\",\n",
    "    \"pink-yellow dahlia?\", \"cautleya spicata\", \"japanese anemone\",\n",
    "    \"black-eyed susan\", \"silverbush\", \"californian poppy\", \"osteospermum\",\n",
    "    \"spring crocus\", \"bearded iris\", \"windflower\", \"tree poppy\", \"gazania\",\n",
    "    \"azalea\", \"water lily\", \"rose\", \"thorn apple\", \"morning glory\",\n",
    "    \"passion flower\", \"lotus\", \"toad lily\", \"anthurium\", \"frangipani\",\n",
    "    \"clematis\", \"hibiscus\", \"columbine\", \"desert-rose\", \"tree mallow\",\n",
    "    \"magnolia\", \"cyclamen\", \"watercress\", \"canna lily\", \"hippeastrum\",\n",
    "    \"bee balm\", \"ball moss\", \"foxglove\", \"bougainvillea\", \"camellia\", \"mallow\",\n",
    "    \"mexican petunia\", \"bromelia\", \"blanket flower\", \"trumpet creeper\",\n",
    "    \"blackberry lily\"\n",
    "]\n"
   ]
  },
  {
   "cell_type": "code",
   "execution_count": null,
   "metadata": {},
   "outputs": [],
   "source": [
    "categories = {}\n",
    "listimages = sorted(os.listdir('categories'))\n",
    "for i in range(len(NAMES)):\n",
    "    categories[NAMES[i]] = 'categories/' + listimages[i]"
   ]
  },
  {
   "cell_type": "code",
   "execution_count": null,
   "metadata": {},
   "outputs": [],
   "source": [
    "def predict_name(image_path, classifier):\n",
    "    img = kimage.load_img(image_path)\n",
    "    x = kimage.img_to_array(img)\n",
    "    x = mobilenet_v2.preprocess_input(x)\n",
    "    x = np.expand_dims(x, axis = 0)\n",
    "\n",
    "    prediction = classifier.predict(x)\n",
    "\n",
    "    return prediction[0], img"
   ]
  },
  {
   "cell_type": "code",
   "execution_count": null,
   "metadata": {},
   "outputs": [],
   "source": [
    "def predict_name_photo (image_path, classifier):\n",
    "\n",
    "    prediction, image = predict_name(image_path, classifier)\n",
    "    prediction_name = NAMES[np.argmax(prediction)]\n",
    "\n",
    "    path_pred_image = categories[prediction_name]\n",
    "    image_pred = cv2.imread(path_pred_image)\n",
    "    image_pred = cv2.cvtColor(image_pred, cv2.COLOR_BGR2RGB)\n",
    "    \n",
    "    NAMES.sort()\n",
    "\n",
    "    plt.subplot(1,2,1),plt.imshow(image), plt.title('What is it?')\n",
    "    plt.subplot(1,2,2),plt.imshow(image_pred), plt.title(prediction_name)\n",
    "\n",
    "    #return NAMES[prediction-1]"
   ]
  },
  {
   "cell_type": "code",
   "execution_count": null,
   "metadata": {},
   "outputs": [],
   "source": [
    "predict_name_photo('mask_NEW/image_07254.jpg', net)"
   ]
  },
  {
   "cell_type": "code",
   "execution_count": null,
   "metadata": {},
   "outputs": [],
   "source": [
    "predict_name_photo('mask_NEW/image_06971.jpg', net)"
   ]
  }
 ]
}